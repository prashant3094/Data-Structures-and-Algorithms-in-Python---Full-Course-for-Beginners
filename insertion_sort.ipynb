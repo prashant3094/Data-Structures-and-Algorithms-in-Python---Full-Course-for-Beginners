{
  "nbformat": 4,
  "nbformat_minor": 0,
  "metadata": {
    "colab": {
      "name": "insertion sort.ipynb",
      "provenance": [],
      "authorship_tag": "ABX9TyMqjZwGzc9A6Jey5Gfn7Iy+",
      "include_colab_link": true
    },
    "kernelspec": {
      "name": "python3",
      "display_name": "Python 3"
    },
    "language_info": {
      "name": "python"
    }
  },
  "cells": [
    {
      "cell_type": "markdown",
      "metadata": {
        "id": "view-in-github",
        "colab_type": "text"
      },
      "source": [
        "<a href=\"https://colab.research.google.com/github/prashant3094/Data-Structures-and-Algorithms-in-Python---Full-Course-for-Beginners/blob/main/insertion_sort.ipynb\" target=\"_parent\"><img src=\"https://colab.research.google.com/assets/colab-badge.svg\" alt=\"Open In Colab\"/></a>"
      ]
    },
    {
      "cell_type": "code",
      "execution_count": null,
      "metadata": {
        "id": "ojtUdplLjEXx"
      },
      "outputs": [],
      "source": [
        "def insertion_sort(elements):\n",
        "    for i in range(1, len(elements)):\n",
        "        anchor = elements[i]\n",
        "        j = i - 1\n",
        "        while j>=0 and anchor < elements[j]:\n",
        "            elements[j+1] = elements[j]\n",
        "            j = j - 1\n",
        "        elements[j+1] = anchor\n",
        "\n",
        "if __name__ == '__main__':\n",
        "    elements = [11,9,29,7,2,15,28]\n",
        "    insertion_sort(elements)\n",
        "    print(elements)\n",
        "    #\n",
        "    tests = [\n",
        "        [11,9,29,7,2,15,28],\n",
        "        [3, 7, 9, 11],\n",
        "        [25, 22, 21, 10],\n",
        "        [29, 15, 28],\n",
        "        [],\n",
        "        [6]\n",
        "    ]\n",
        "\n",
        "    for elements in tests:\n",
        "        insertion_sort(elements)\n",
        "        print(f'sorted array: {elements}')\n",
        "© 2022 GitHub, Inc.\n",
        "Terms\n",
        "Pri"
      ]
    }
  ]
}