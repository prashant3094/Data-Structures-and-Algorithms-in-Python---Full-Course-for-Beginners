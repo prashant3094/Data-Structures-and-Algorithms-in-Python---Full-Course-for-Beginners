{
  "nbformat": 4,
  "nbformat_minor": 0,
  "metadata": {
    "colab": {
      "name": "Graph algorithm.ipynb",
      "provenance": [],
      "collapsed_sections": [],
      "authorship_tag": "ABX9TyNUEwPv2S97Is7sowuVocIS",
      "include_colab_link": true
    },
    "kernelspec": {
      "name": "python3",
      "display_name": "Python 3"
    },
    "language_info": {
      "name": "python"
    }
  },
  "cells": [
    {
      "cell_type": "markdown",
      "metadata": {
        "id": "view-in-github",
        "colab_type": "text"
      },
      "source": [
        "<a href=\"https://colab.research.google.com/github/prashant3094/Data-Structures-and-Algorithms-in-Python---Full-Course-for-Beginners/blob/main/Graph_algorithm.ipynb\" target=\"_parent\"><img src=\"https://colab.research.google.com/assets/colab-badge.svg\" alt=\"Open In Colab\"/></a>"
      ]
    },
    {
      "cell_type": "code",
      "source": [
        "num_nodes1 = 5\n",
        "edges1 = [(0, 1), (1, 2), (2, 3), (3, 4), (4, 0), (1, 4), (1, 3)]\n",
        "num_nodes1, len(edges1)"
      ],
      "metadata": {
        "colab": {
          "base_uri": "https://localhost:8080/"
        },
        "id": "uwHUYUOAlpbv",
        "outputId": "84bca869-a020-4974-f72d-6d95121a511d"
      },
      "execution_count": 25,
      "outputs": [
        {
          "output_type": "execute_result",
          "data": {
            "text/plain": [
              "(5, 7)"
            ]
          },
          "metadata": {},
          "execution_count": 25
        }
      ]
    },
    {
      "cell_type": "code",
      "source": [
        "class Graph:\n",
        "    def __init__(self, num_nodes, edges):\n",
        "        self.data = [[] for _ in range(num_nodes)]\n",
        "        for v1, v2 in edges:\n",
        "            self.data[v1].append(v2)\n",
        "            self.data[v2].append(v1)\n",
        "            \n",
        "    def __repr__(self):\n",
        "        return \"\\n\".join([\"{} : {}\".format(i, neighbors) for (i, neighbors) in enumerate(self.data)])\n",
        "\n",
        "    def __str__(self):\n",
        "        return repr(self)"
      ],
      "metadata": {
        "id": "Aw0yGtD6WhT_"
      },
      "execution_count": 26,
      "outputs": []
    },
    {
      "cell_type": "code",
      "source": [
        "g1 = Graph(num_nodes1, edges1)\n",
        "g1"
      ],
      "metadata": {
        "colab": {
          "base_uri": "https://localhost:8080/"
        },
        "id": "8ocsSikbWhWw",
        "outputId": "1f0f3563-e7c5-4cda-9c8d-1722896459df"
      },
      "execution_count": 27,
      "outputs": [
        {
          "output_type": "execute_result",
          "data": {
            "text/plain": [
              "0 : [1, 4]\n",
              "1 : [0, 2, 4, 3]\n",
              "2 : [1, 3]\n",
              "3 : [2, 4, 1]\n",
              "4 : [3, 0, 1]"
            ]
          },
          "metadata": {},
          "execution_count": 27
        }
      ]
    },
    {
      "cell_type": "markdown",
      "source": [
        "#Breadth First Search"
      ],
      "metadata": {
        "id": "tap2s1OpvsLy"
      }
    },
    {
      "cell_type": "code",
      "source": [
        "def bfs(graph, source):\n",
        "    visited = [False] * len(graph.data)\n",
        "    queue = []\n",
        "    \n",
        "    visited[source] = True    \n",
        "    queue.append(source)\n",
        "    i = 0\n",
        "    \n",
        "    while i < len(queue):\n",
        "        for v in graph.data[queue[i]]:\n",
        "            if not visited[v]:\n",
        "                visited[v] = True\n",
        "                queue.append(v)\n",
        "        i += 1\n",
        "        \n",
        "    return queue"
      ],
      "metadata": {
        "id": "KfXHsP-2WhZ3"
      },
      "execution_count": 28,
      "outputs": []
    },
    {
      "cell_type": "code",
      "source": [
        "bfs(g1, 3)"
      ],
      "metadata": {
        "colab": {
          "base_uri": "https://localhost:8080/"
        },
        "id": "4x5j_0snWhcX",
        "outputId": "d2843dca-fc52-4df2-99bf-25c5f9d47a73"
      },
      "execution_count": 29,
      "outputs": [
        {
          "output_type": "execute_result",
          "data": {
            "text/plain": [
              "[3, 2, 4, 1, 0]"
            ]
          },
          "metadata": {},
          "execution_count": 29
        }
      ]
    },
    {
      "cell_type": "markdown",
      "source": [
        "#Depth First Search"
      ],
      "metadata": {
        "id": "9ZAP5HbRWMTC"
      }
    },
    {
      "cell_type": "code",
      "source": [
        "def dfs(graph, source):\n",
        "    visited = [False] * len(graph.data)\n",
        "    stack = [source]\n",
        "    result = []\n",
        "    \n",
        "    while len(stack) > 0:\n",
        "        current = stack.pop()\n",
        "        if not visited[current]:\n",
        "            result.append(current)\n",
        "            visited[current] = True\n",
        "            for v in graph.data[current]:\n",
        "                stack.append(v)\n",
        "                \n",
        "    return result"
      ],
      "metadata": {
        "id": "1KaxU--hWhfj"
      },
      "execution_count": 30,
      "outputs": []
    },
    {
      "cell_type": "code",
      "source": [
        "dfs(g1, 0)"
      ],
      "metadata": {
        "colab": {
          "base_uri": "https://localhost:8080/"
        },
        "id": "ifnCd3ojWhng",
        "outputId": "9954c2bc-6059-4148-d97e-d5b142c00e2a"
      },
      "execution_count": 31,
      "outputs": [
        {
          "output_type": "execute_result",
          "data": {
            "text/plain": [
              "[0, 4, 1, 3, 2]"
            ]
          },
          "metadata": {},
          "execution_count": 31
        }
      ]
    },
    {
      "cell_type": "code",
      "source": [
        ""
      ],
      "metadata": {
        "id": "YrlimNWxWhq0"
      },
      "execution_count": null,
      "outputs": []
    },
    {
      "cell_type": "code",
      "source": [
        ""
      ],
      "metadata": {
        "id": "d3rQ1fX2Wht6"
      },
      "execution_count": null,
      "outputs": []
    },
    {
      "cell_type": "code",
      "source": [
        ""
      ],
      "metadata": {
        "id": "-NSrOPhiWhxh"
      },
      "execution_count": null,
      "outputs": []
    },
    {
      "cell_type": "code",
      "source": [
        ""
      ],
      "metadata": {
        "id": "6tfDcKkBWh0Q"
      },
      "execution_count": null,
      "outputs": []
    }
  ]
}