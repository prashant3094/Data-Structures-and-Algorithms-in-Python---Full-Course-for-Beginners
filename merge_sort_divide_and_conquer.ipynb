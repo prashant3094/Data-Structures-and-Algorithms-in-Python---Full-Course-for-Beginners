{
  "nbformat": 4,
  "nbformat_minor": 0,
  "metadata": {
    "colab": {
      "name": "merge sort divide and conquer.ipynb",
      "provenance": [],
      "collapsed_sections": [],
      "authorship_tag": "ABX9TyPIrNFx942cAxhDgt1HuJDn",
      "include_colab_link": true
    },
    "kernelspec": {
      "name": "python3",
      "display_name": "Python 3"
    },
    "language_info": {
      "name": "python"
    }
  },
  "cells": [
    {
      "cell_type": "markdown",
      "metadata": {
        "id": "view-in-github",
        "colab_type": "text"
      },
      "source": [
        "<a href=\"https://colab.research.google.com/github/prashant3094/Data-Structures-and-Algorithms-in-Python---Full-Course-for-Beginners/blob/main/merge_sort_divide_and_conquer.ipynb\" target=\"_parent\"><img src=\"https://colab.research.google.com/assets/colab-badge.svg\" alt=\"Open In Colab\"/></a>"
      ]
    },
    {
      "cell_type": "code",
      "execution_count": 1,
      "metadata": {
        "colab": {
          "base_uri": "https://localhost:8080/"
        },
        "id": "4Jwr1QHdt37B",
        "outputId": "798ed8d7-be12-493a-d366-33177ba974fb"
      },
      "outputs": [
        {
          "output_type": "stream",
          "name": "stdout",
          "text": [
            "[3, 7, 8, 10, 15, 23, 29, 98]\n",
            "[]\n",
            "[3]\n",
            "[2, 7, 8, 9]\n",
            "[1, 2, 3, 4, 5]\n"
          ]
        }
      ],
      "source": [
        "def merge_sort(arr):\n",
        "    if len(arr) <= 1:\n",
        "        return\n",
        "\n",
        "    mid = len(arr)//2\n",
        "\n",
        "    left = arr[:mid]\n",
        "    right = arr[mid:]\n",
        "\n",
        "    merge_sort(left)\n",
        "    merge_sort(right)\n",
        "\n",
        "    merge_two_sorted_lists(left, right, arr)\n",
        "\n",
        "def merge_two_sorted_lists(a,b,arr):\n",
        "    len_a = len(a)\n",
        "    len_b = len(b)\n",
        "\n",
        "    i = j = k = 0\n",
        "\n",
        "    while i < len_a and j < len_b:\n",
        "        if a[i] <= b[j]:\n",
        "            arr[k] = a[i]\n",
        "            i+=1\n",
        "        else:\n",
        "            arr[k] = b[j]\n",
        "            j+=1\n",
        "        k+=1\n",
        "\n",
        "    while i < len_a:\n",
        "        arr[k] = a[i]\n",
        "        i+=1\n",
        "        k+=1\n",
        "\n",
        "    while j < len_b:\n",
        "        arr[k] = b[j]\n",
        "        j+=1\n",
        "        k+=1\n",
        "\n",
        "if __name__ == '__main__':\n",
        "    test_cases = [\n",
        "        [10, 3, 15, 7, 8, 23, 98, 29],\n",
        "        [],\n",
        "        [3],\n",
        "        [9,8,7,2],\n",
        "        [1,2,3,4,5]\n",
        "    ]\n",
        "\n",
        "    for arr in test_cases:\n",
        "        merge_sort(arr)\n",
        "        print(arr)"
      ]
    }
  ]
}