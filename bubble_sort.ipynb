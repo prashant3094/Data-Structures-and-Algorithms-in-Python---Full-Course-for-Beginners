{
  "nbformat": 4,
  "nbformat_minor": 0,
  "metadata": {
    "colab": {
      "name": "bubble sort.ipynb",
      "provenance": [],
      "authorship_tag": "ABX9TyNsBC5Ftbvdp98SORBgt66j",
      "include_colab_link": true
    },
    "kernelspec": {
      "name": "python3",
      "display_name": "Python 3"
    },
    "language_info": {
      "name": "python"
    }
  },
  "cells": [
    {
      "cell_type": "markdown",
      "metadata": {
        "id": "view-in-github",
        "colab_type": "text"
      },
      "source": [
        "<a href=\"https://colab.research.google.com/github/prashant3094/Data-Structures-and-Algorithms-in-Python---Full-Course-for-Beginners/blob/main/bubble_sort.ipynb\" target=\"_parent\"><img src=\"https://colab.research.google.com/assets/colab-badge.svg\" alt=\"Open In Colab\"/></a>"
      ]
    },
    {
      "cell_type": "code",
      "execution_count": 10,
      "metadata": {
        "colab": {
          "base_uri": "https://localhost:8080/"
        },
        "id": "pqc5G3RR1LT3",
        "outputId": "a77d2d0d-2f5a-4277-cd9d-c4a25df8191c"
      },
      "outputs": [
        {
          "output_type": "stream",
          "name": "stdout",
          "text": [
            "[1, 2, 5, 9, 34, 34, 67, 88]\n",
            "***********\n",
            "[1, 2, 2, 3, 4]\n",
            "***********\n",
            "['aamir', 'chang', 'dhaval', 'mona', 'tina']\n",
            "******************\n"
          ]
        }
      ],
      "source": [
        "def bubble_sort(elements):\n",
        "    size = len(elements)\n",
        "\n",
        "    for i in range(size-1):\n",
        "        swapped = False\n",
        "        for j in range(size-1-i):\n",
        "            if elements[j] > elements[j+1]:\n",
        "                tmp = elements[j]\n",
        "                elements[j] = elements[j+1]\n",
        "                elements[j+1] = tmp\n",
        "                swapped = True\n",
        "\n",
        "        if not swapped:\n",
        "            break\n",
        "\n",
        "\n",
        "\n",
        "elements1 = [5,9,2,1,67,34,88,34]\n",
        "elements2 = [1,2,3,4,2]\n",
        "elements3 = [\"mona\", \"dhaval\", \"aamir\", \"tina\", \"chang\"]\n",
        "\n",
        "bubble_sort(elements1)\n",
        "print(elements1)\n",
        "print('***********')\n",
        "bubble_sort(elements2)\n",
        "print(elements2)\n",
        "print(\"***********\")\n",
        "bubble_sort(elements3)\n",
        "print(elements3)\n",
        "print(\"******************\")\n"
      ]
    },
    {
      "cell_type": "code",
      "source": [
        ""
      ],
      "metadata": {
        "id": "Ba1R8nhL_jpy"
      },
      "execution_count": null,
      "outputs": []
    },
    {
      "cell_type": "code",
      "source": [
        ""
      ],
      "metadata": {
        "id": "onY3i1AV_jsZ"
      },
      "execution_count": null,
      "outputs": []
    },
    {
      "cell_type": "code",
      "source": [
        ""
      ],
      "metadata": {
        "id": "GY9z8i9Z_jvK"
      },
      "execution_count": null,
      "outputs": []
    },
    {
      "cell_type": "code",
      "source": [
        ""
      ],
      "metadata": {
        "id": "NOyeI5nB_jxw"
      },
      "execution_count": null,
      "outputs": []
    },
    {
      "cell_type": "code",
      "source": [
        ""
      ],
      "metadata": {
        "id": "-Do6zSWX_j0x"
      },
      "execution_count": null,
      "outputs": []
    }
  ]
}