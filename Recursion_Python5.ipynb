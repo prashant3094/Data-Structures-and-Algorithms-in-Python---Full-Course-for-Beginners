{
  "nbformat": 4,
  "nbformat_minor": 0,
  "metadata": {
    "colab": {
      "name": "Recursion Python5.ipynb",
      "provenance": [],
      "authorship_tag": "ABX9TyM6Yl/hL7pK5tUjWa0Jp2my",
      "include_colab_link": true
    },
    "kernelspec": {
      "name": "python3",
      "display_name": "Python 3"
    },
    "language_info": {
      "name": "python"
    }
  },
  "cells": [
    {
      "cell_type": "markdown",
      "metadata": {
        "id": "view-in-github",
        "colab_type": "text"
      },
      "source": [
        "<a href=\"https://colab.research.google.com/github/prashant3094/Data-Structures-and-Algorithms-in-Python---Full-Course-for-Beginners/blob/main/Recursion_Python5.ipynb\" target=\"_parent\"><img src=\"https://colab.research.google.com/assets/colab-badge.svg\" alt=\"Open In Colab\"/></a>"
      ]
    },
    {
      "cell_type": "code",
      "execution_count": 2,
      "metadata": {
        "id": "693wFz3w5pLS"
      },
      "outputs": [],
      "source": [
        "def find_sum(n):\n",
        "    if n==1:\n",
        "        return 1\n",
        "    return n + find_sum(n-1)\n",
        "\n",
        "def fib(n):\n",
        "    # 0,1,1,2,3,5,8 <-- fibonacci numbers\n",
        "    # --------------\n",
        "    # 0,1,2,3,4,5,6 <-- index\n",
        "    if n==0 or n==1:\n",
        "        return n\n",
        "    return fib(n-1) + fib(n-2)"
      ]
    },
    {
      "cell_type": "code",
      "source": [
        "if __name__=='__main__':\n",
        "    print(find_sum(6))\n",
        "    print(fib(10))"
      ],
      "metadata": {
        "colab": {
          "base_uri": "https://localhost:8080/"
        },
        "id": "SlZnmq7K5xB1",
        "outputId": "883d5baf-02fd-449f-d841-0f7dc3919cf4"
      },
      "execution_count": 3,
      "outputs": [
        {
          "output_type": "stream",
          "name": "stdout",
          "text": [
            "21\n",
            "55\n"
          ]
        }
      ]
    }
  ]
}