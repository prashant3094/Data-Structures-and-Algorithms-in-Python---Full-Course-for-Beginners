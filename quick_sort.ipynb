{
  "nbformat": 4,
  "nbformat_minor": 0,
  "metadata": {
    "colab": {
      "name": "quick sort.ipynb",
      "provenance": [],
      "collapsed_sections": [],
      "authorship_tag": "ABX9TyMKR8sJnqVL5ufCknx7sHl3",
      "include_colab_link": true
    },
    "kernelspec": {
      "name": "python3",
      "display_name": "Python 3"
    },
    "language_info": {
      "name": "python"
    }
  },
  "cells": [
    {
      "cell_type": "markdown",
      "metadata": {
        "id": "view-in-github",
        "colab_type": "text"
      },
      "source": [
        "<a href=\"https://colab.research.google.com/github/prashant3094/Data-Structures-and-Algorithms-in-Python---Full-Course-for-Beginners/blob/main/quick_sort.ipynb\" target=\"_parent\"><img src=\"https://colab.research.google.com/assets/colab-badge.svg\" alt=\"Open In Colab\"/></a>"
      ]
    },
    {
      "cell_type": "markdown",
      "source": [
        "https://www.youtube.com/watch?v=5iSZ7mh_RAk&list=PLeo1K3hjS3uu_n_a__MI_KktGTLYopZ12&index=15"
      ],
      "metadata": {
        "id": "pfUu1IXhhSlD"
      }
    },
    {
      "cell_type": "code",
      "source": [
        "# implementation of quick sort in python using hoare partition scheme\n",
        "\n",
        "def swap(a, b, arr):\n",
        "    if a!=b:\n",
        "        tmp = arr[a]\n",
        "        arr[a] = arr[b]\n",
        "        arr[b] = tmp\n",
        "\n",
        "def quick_sort(elements, start, end):\n",
        "    if start < end:\n",
        "        pi = partition(elements, start, end)\n",
        "        quick_sort(elements, start, pi-1)\n",
        "        quick_sort(elements, pi+1, end)\n",
        "\n",
        "def partition(elements, start, end):\n",
        "    pivot_index = start\n",
        "    pivot = elements[pivot_index]\n",
        "\n",
        "    while start < end:\n",
        "        while start < len(elements) and elements[start] <= pivot:\n",
        "            start+=1\n",
        "\n",
        "        while elements[end] > pivot:\n",
        "            end-=1\n",
        "\n",
        "        if start < end:\n",
        "            swap(start, end, elements)\n",
        "\n",
        "    swap(pivot_index, end, elements)\n",
        "\n",
        "    return end\n",
        "\n",
        "\n",
        "if __name__ == '__main__':\n",
        "    elements = [11,9,29,7,2,15,28]\n",
        "    # elements = [\"mona\", \"dhaval\", \"aamir\", \"tina\", \"chang\"]\n",
        "    quick_sort(elements, 0, len(elements)-1)\n",
        "    print(elements)\n",
        "\n",
        "    tests = [\n",
        "        [11,9,29,7,2,15,28],\n",
        "        [3, 7, 9, 11],\n",
        "        [25, 22, 21, 10],\n",
        "        [29, 15, 28],\n",
        "        [],\n",
        "        [6]\n",
        "    ]\n",
        "\n",
        "    for elements in tests:\n",
        "        quick_sort(elements, 0, len(elements)-1)\n",
        "        print(f'sorted array: {elements}')"
      ],
      "metadata": {
        "colab": {
          "base_uri": "https://localhost:8080/"
        },
        "id": "e3RBHXD8hVIs",
        "outputId": "ea004946-672e-4070-894c-04f54eef773b"
      },
      "execution_count": 1,
      "outputs": [
        {
          "output_type": "stream",
          "name": "stdout",
          "text": [
            "[2, 7, 9, 11, 15, 28, 29]\n",
            "sorted array: [2, 7, 9, 11, 15, 28, 29]\n",
            "sorted array: [3, 7, 9, 11]\n",
            "sorted array: [10, 21, 22, 25]\n",
            "sorted array: [15, 28, 29]\n",
            "sorted array: []\n",
            "sorted array: [6]\n"
          ]
        }
      ]
    },
    {
      "cell_type": "code",
      "source": [
        ""
      ],
      "metadata": {
        "id": "SWxeirkPhVLT"
      },
      "execution_count": null,
      "outputs": []
    },
    {
      "cell_type": "code",
      "source": [
        ""
      ],
      "metadata": {
        "id": "56UaC8anhVOP"
      },
      "execution_count": null,
      "outputs": []
    },
    {
      "cell_type": "code",
      "source": [
        ""
      ],
      "metadata": {
        "id": "BmiplReLhVQs"
      },
      "execution_count": null,
      "outputs": []
    },
    {
      "cell_type": "code",
      "source": [
        ""
      ],
      "metadata": {
        "id": "iHbYGlclhVSu"
      },
      "execution_count": null,
      "outputs": []
    },
    {
      "cell_type": "code",
      "source": [
        ""
      ],
      "metadata": {
        "id": "H8hCLm66hVW5"
      },
      "execution_count": null,
      "outputs": []
    },
    {
      "cell_type": "code",
      "source": [
        ""
      ],
      "metadata": {
        "id": "MkyuWThohVZb"
      },
      "execution_count": null,
      "outputs": []
    }
  ]
}