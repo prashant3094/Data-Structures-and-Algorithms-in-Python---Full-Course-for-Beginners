{
  "nbformat": 4,
  "nbformat_minor": 0,
  "metadata": {
    "colab": {
      "name": "hashtable.ipynb",
      "provenance": [],
      "collapsed_sections": [],
      "authorship_tag": "ABX9TyPKzDfXfXsL8o7IXHK9cS+6",
      "include_colab_link": true
    },
    "kernelspec": {
      "name": "python3",
      "display_name": "Python 3"
    },
    "language_info": {
      "name": "python"
    }
  },
  "cells": [
    {
      "cell_type": "markdown",
      "metadata": {
        "id": "view-in-github",
        "colab_type": "text"
      },
      "source": [
        "<a href=\"https://colab.research.google.com/github/prashant3094/Data-Structures-and-Algorithms-in-Python---Full-Course-for-Beginners/blob/main/hashtable.ipynb\" target=\"_parent\"><img src=\"https://colab.research.google.com/assets/colab-badge.svg\" alt=\"Open In Colab\"/></a>"
      ]
    },
    {
      "cell_type": "code",
      "execution_count": null,
      "metadata": {
        "id": "ov5-gbyyk_Tp"
      },
      "outputs": [],
      "source": [
        "project='python-hash-tables-assignment'"
      ]
    },
    {
      "cell_type": "code",
      "source": [
        "!pip install jovian --upgrade --quiet"
      ],
      "metadata": {
        "colab": {
          "base_uri": "https://localhost:8080/"
        },
        "id": "0zQx414NE5MA",
        "outputId": "185038cb-ad49-48df-983f-9393f1e3c44e"
      },
      "execution_count": null,
      "outputs": [
        {
          "output_type": "stream",
          "name": "stdout",
          "text": [
            "\u001b[?25l\r\u001b[K     |████▊                           | 10 kB 23.1 MB/s eta 0:00:01\r\u001b[K     |█████████▌                      | 20 kB 29.9 MB/s eta 0:00:01\r\u001b[K     |██████████████▎                 | 30 kB 17.1 MB/s eta 0:00:01\r\u001b[K     |███████████████████             | 40 kB 7.7 MB/s eta 0:00:01\r\u001b[K     |███████████████████████▉        | 51 kB 7.8 MB/s eta 0:00:01\r\u001b[K     |████████████████████████████▋   | 61 kB 9.1 MB/s eta 0:00:01\r\u001b[K     |████████████████████████████████| 68 kB 4.5 MB/s \n",
            "\u001b[?25h  Building wheel for uuid (setup.py) ... \u001b[?25l\u001b[?25hdone\n"
          ]
        }
      ]
    },
    {
      "cell_type": "code",
      "source": [
        "import jovian"
      ],
      "metadata": {
        "id": "GC4VpQ66E5PA"
      },
      "execution_count": null,
      "outputs": []
    },
    {
      "cell_type": "markdown",
      "source": [
        "#Problem Statement - Python Dictionaries and Hash Tables"
      ],
      "metadata": {
        "id": "jT7J6mE-FQSq"
      }
    },
    {
      "cell_type": "markdown",
      "source": [
        "In this assignment, you will recreate Python dictionaries from scratch using data structure called hash table. Dictionaries in Python are used to store key-value pairs. Keys are used to store and retrieve values. For example, here's a dictionary for storing and retrieving phone numbers using people's names."
      ],
      "metadata": {
        "id": "AUCJ-X_kFWrN"
      }
    },
    {
      "cell_type": "code",
      "source": [
        "phone_numbers = {\n",
        "  'Aakash' : '9489484949',\n",
        "  'Hemanth' : '9595949494',\n",
        "  'Siddhant' : '9231325312'\n",
        "}\n",
        "phone_numbers"
      ],
      "metadata": {
        "colab": {
          "base_uri": "https://localhost:8080/"
        },
        "id": "WOysUq6GE5RU",
        "outputId": "d517541d-f840-49c0-fdf9-2270bf830c87"
      },
      "execution_count": null,
      "outputs": [
        {
          "output_type": "execute_result",
          "data": {
            "text/plain": [
              "{'Aakash': '9489484949', 'Hemanth': '9595949494', 'Siddhant': '9231325312'}"
            ]
          },
          "metadata": {},
          "execution_count": 5
        }
      ]
    },
    {
      "cell_type": "code",
      "source": [
        "phone_numbers['Aakash']"
      ],
      "metadata": {
        "colab": {
          "base_uri": "https://localhost:8080/",
          "height": 35
        },
        "id": "FDWQ7IAQE5WW",
        "outputId": "12abb408-81a3-4388-e371-9addb0b15edf"
      },
      "execution_count": null,
      "outputs": [
        {
          "output_type": "execute_result",
          "data": {
            "application/vnd.google.colaboratory.intrinsic+json": {
              "type": "string"
            },
            "text/plain": [
              "'9489484949'"
            ]
          },
          "metadata": {},
          "execution_count": 6
        }
      ]
    },
    {
      "cell_type": "code",
      "source": [
        "# Add a new value\n",
        "phone_numbers['Vishal'] = '8787878787'\n",
        "# Update existing value\n",
        "phone_numbers['Aakash'] = '7878787878'\n",
        "# View the updated dictionary\n",
        "phone_numbers"
      ],
      "metadata": {
        "colab": {
          "base_uri": "https://localhost:8080/"
        },
        "id": "RJ0pqtOXE5Ys",
        "outputId": "9baa06cf-ad5c-4791-e6a7-a7fd79b551dc"
      },
      "execution_count": null,
      "outputs": [
        {
          "output_type": "execute_result",
          "data": {
            "text/plain": [
              "{'Aakash': '7878787878',\n",
              " 'Hemanth': '9595949494',\n",
              " 'Siddhant': '9231325312',\n",
              " 'Vishal': '8787878787'}"
            ]
          },
          "metadata": {},
          "execution_count": 7
        }
      ]
    },
    {
      "cell_type": "code",
      "source": [
        "for name in phone_numbers:\n",
        "    print('Name:', name, ', Phone Number:', phone_numbers[name])"
      ],
      "metadata": {
        "colab": {
          "base_uri": "https://localhost:8080/"
        },
        "id": "aaDw20oUE5bd",
        "outputId": "a55a7309-7e27-4f51-a10c-e01b267d773a"
      },
      "execution_count": null,
      "outputs": [
        {
          "output_type": "stream",
          "name": "stdout",
          "text": [
            "Name: Aakash , Phone Number: 7878787878\n",
            "Name: Hemanth , Phone Number: 9595949494\n",
            "Name: Siddhant , Phone Number: 9231325312\n",
            "Name: Vishal , Phone Number: 8787878787\n"
          ]
        }
      ]
    },
    {
      "cell_type": "markdown",
      "source": [
        "Dictionaries in Python are implemented using a data structure called hash table. A hash table uses a list/array to store the key-value pairs, and uses a hashing function to determine the index for storing or retrieving the data associated with a given key."
      ],
      "metadata": {
        "id": "gEbWe1-5GOaT"
      }
    },
    {
      "cell_type": "code",
      "source": [
        "from PIL import Image\n",
        "im = Image.open(r'/content/5dPEmuY.png')\n",
        "im.show()"
      ],
      "metadata": {
        "id": "o8ufukf2E5oc"
      },
      "execution_count": null,
      "outputs": []
    },
    {
      "cell_type": "markdown",
      "source": [
        "our objective in this assignment is to implement a HashTable class which supports the following operations:\n",
        "\n",
        "Insert: Insert a new key-value pair\n",
        "\n",
        "Find: Find the value associated with a key\n",
        "\n",
        "Update: Update the value associated with a key\n",
        "\n",
        "List: List all the keys stored in the hash table"
      ],
      "metadata": {
        "id": "EBTcTM5LHqKD"
      }
    },
    {
      "cell_type": "code",
      "source": [
        "class HashTable:\n",
        "    def insert(self, key, value):\n",
        "        \"\"\"Insert a new key-value pair\"\"\"\n",
        "        pass\n",
        "    \n",
        "    def find(self, key):\n",
        "        \"\"\"Find the value associated with a key\"\"\"\n",
        "        pass\n",
        "    \n",
        "    def update(self, key, value):\n",
        "        \"\"\"Change the value associated with a key\"\"\"\n",
        "        pass\n",
        "    \n",
        "    def list_all(self):\n",
        "        \"\"\"List all the keys\"\"\"\n",
        "        pass"
      ],
      "metadata": {
        "id": "GG7qJ3oqE5s_"
      },
      "execution_count": null,
      "outputs": []
    },
    {
      "cell_type": "markdown",
      "source": [
        "We'll build the HashTable class step-by-step. As a first step is to create a Python list which will hold all the key-value pairs. We'll start by creating a list of a fixed size."
      ],
      "metadata": {
        "id": "LFUJYXC0KU6b"
      }
    },
    {
      "cell_type": "code",
      "source": [
        "MAX_HASH_TABLE_SIZE = 4096"
      ],
      "metadata": {
        "id": "6fdZdqMSE5vY"
      },
      "execution_count": null,
      "outputs": []
    },
    {
      "cell_type": "code",
      "source": [
        "data_list=[None] * 4096"
      ],
      "metadata": {
        "id": "LUBKAq2wE5yi"
      },
      "execution_count": null,
      "outputs": []
    },
    {
      "cell_type": "code",
      "source": [
        "len(data_list) == 4096"
      ],
      "metadata": {
        "colab": {
          "base_uri": "https://localhost:8080/"
        },
        "id": "maZVdroTE51o",
        "outputId": "ea88797a-07de-4ffb-9c12-7af7abb4d15b"
      },
      "execution_count": null,
      "outputs": [
        {
          "output_type": "execute_result",
          "data": {
            "text/plain": [
              "True"
            ]
          },
          "metadata": {},
          "execution_count": 18
        }
      ]
    },
    {
      "cell_type": "code",
      "source": [
        "data_list[99] == None"
      ],
      "metadata": {
        "colab": {
          "base_uri": "https://localhost:8080/"
        },
        "id": "YzfbgJ0nE54E",
        "outputId": "ab2ea5cc-5696-4b7d-8df8-fc8aa04bae79"
      },
      "execution_count": null,
      "outputs": [
        {
          "output_type": "execute_result",
          "data": {
            "text/plain": [
              "True"
            ]
          },
          "metadata": {},
          "execution_count": 19
        }
      ]
    },
    {
      "cell_type": "markdown",
      "source": [
        "#hashing function"
      ],
      "metadata": {
        "id": "KGfLAxDmL9KX"
      }
    },
    {
      "cell_type": "markdown",
      "source": [
        "A hashing function is used to convert strings and other non-numeric data types into numbers, which can then be used as list indices. For instance, if a hashing function converts the string \"Aakash\" into the number 4, then the key-value pair ('Aakash', '7878787878') will be stored at the position 4 within the data list."
      ],
      "metadata": {
        "id": "BwqtqXFIMDoB"
      }
    },
    {
      "cell_type": "markdown",
      "source": [
        "Here's a simple algorithm for hashing, which can convert strings into numeric list indices.\n",
        "\n",
        "Iterate over the string, character by character\n",
        "\n",
        "Convert each character to a number using Python's built-in ord function\n",
        ".\n",
        "Add the numbers for each character to obtain the hash for the entire string\n",
        "\n",
        "Take the remainder of the result with the size of the data list"
      ],
      "metadata": {
        "id": "RFAVLfMIMMGe"
      }
    },
    {
      "cell_type": "markdown",
      "source": [
        "QUESTION 2: Complete the get_index function below which implements the hashing algorithm described above."
      ],
      "metadata": {
        "id": "oJAVrYFvMTWO"
      }
    },
    {
      "cell_type": "code",
      "source": [
        "def get_index(data_list, a_string):\n",
        "    # Variable to store the result (updated after each iteration)\n",
        "    result = 0\n",
        "    \n",
        "    for a_character in a_string:\n",
        "        # Convert the character to a number (using ord)\n",
        "        a_number = ord(a_character)\n",
        "        # Update result by adding the number\n",
        "        result += a_number\n",
        "    \n",
        "    # Take the remainder of the result with the size of the data list\n",
        "    list_index = result % len(data_list)\n",
        "    return list_index"
      ],
      "metadata": {
        "id": "vywmO0RKE5-m"
      },
      "execution_count": 20,
      "outputs": []
    },
    {
      "cell_type": "markdown",
      "source": [
        "If the get_index function was defined correctly, the following cells should output True"
      ],
      "metadata": {
        "id": "RCqyxas8aI19"
      }
    },
    {
      "cell_type": "code",
      "source": [
        "get_index(data_list, '') == 0"
      ],
      "metadata": {
        "id": "qgrrLTNhE6BW",
        "colab": {
          "base_uri": "https://localhost:8080/"
        },
        "outputId": "0ff04dda-b5a7-4dac-c99d-4ba0a6c796d7"
      },
      "execution_count": 21,
      "outputs": [
        {
          "output_type": "execute_result",
          "data": {
            "text/plain": [
              "True"
            ]
          },
          "metadata": {},
          "execution_count": 21
        }
      ]
    },
    {
      "cell_type": "code",
      "source": [
        "get_index(data_list, 'Aakash') == 585"
      ],
      "metadata": {
        "id": "5jS6dpyDE6Fy",
        "colab": {
          "base_uri": "https://localhost:8080/"
        },
        "outputId": "f98c4fcd-0936-4e22-b876-03782589d154"
      },
      "execution_count": 22,
      "outputs": [
        {
          "output_type": "execute_result",
          "data": {
            "text/plain": [
              "True"
            ]
          },
          "metadata": {},
          "execution_count": 22
        }
      ]
    },
    {
      "cell_type": "code",
      "source": [
        "get_index(data_list, 'Don O Leary') == 941"
      ],
      "metadata": {
        "colab": {
          "base_uri": "https://localhost:8080/"
        },
        "id": "TrPQBEXVaSNy",
        "outputId": "914bf38f-d6b7-4859-cc07-bc0cea9c33e1"
      },
      "execution_count": 23,
      "outputs": [
        {
          "output_type": "execute_result",
          "data": {
            "text/plain": [
              "True"
            ]
          },
          "metadata": {},
          "execution_count": 23
        }
      ]
    },
    {
      "cell_type": "markdown",
      "source": [
        "Insert\n",
        "\n",
        "To insert a key-value pair into a hash table, we can simply get the hash of the key, and store the pair at that index in the data list."
      ],
      "metadata": {
        "id": "YkmInEzKbNwi"
      }
    },
    {
      "cell_type": "code",
      "source": [
        "key, value = 'Aakash', '7878787878'"
      ],
      "metadata": {
        "id": "Gfvq17CQaSQI"
      },
      "execution_count": 24,
      "outputs": []
    },
    {
      "cell_type": "code",
      "source": [
        "idx = get_index(data_list, key)\n",
        "idx"
      ],
      "metadata": {
        "colab": {
          "base_uri": "https://localhost:8080/"
        },
        "id": "RwLCsll8aSX2",
        "outputId": "6b539391-ab83-426c-e8ac-23333c2b32f4"
      },
      "execution_count": 25,
      "outputs": [
        {
          "output_type": "execute_result",
          "data": {
            "text/plain": [
              "585"
            ]
          },
          "metadata": {},
          "execution_count": 25
        }
      ]
    },
    {
      "cell_type": "code",
      "source": [
        "data_list[idx] = (key, value)"
      ],
      "metadata": {
        "id": "YRaPm_FMaSa6"
      },
      "execution_count": 27,
      "outputs": []
    },
    {
      "cell_type": "code",
      "source": [
        "#Here's the same operation expressed in a single line of code.\n",
        "data_list[get_index(data_list, 'Hemanth')] = ('Hemanth', '9595949494')"
      ],
      "metadata": {
        "id": "HZfHtgilaSiN"
      },
      "execution_count": 28,
      "outputs": []
    },
    {
      "cell_type": "markdown",
      "source": [
        "#find"
      ],
      "metadata": {
        "id": "YZc_tc7_bt5J"
      }
    },
    {
      "cell_type": "code",
      "source": [
        "#The retrieve the value associated with a pair, we can get the hash of the key and look up that index in the data list\n",
        "idx = get_index(data_list, 'Aakash')\n",
        "idx"
      ],
      "metadata": {
        "colab": {
          "base_uri": "https://localhost:8080/"
        },
        "id": "dmPCs7fHaSqF",
        "outputId": "7dcccb2d-c9af-4766-bd84-4599fbd55fb5"
      },
      "execution_count": 29,
      "outputs": [
        {
          "output_type": "execute_result",
          "data": {
            "text/plain": [
              "585"
            ]
          },
          "metadata": {},
          "execution_count": 29
        }
      ]
    },
    {
      "cell_type": "code",
      "source": [
        "key, value = data_list[idx]\n",
        "value"
      ],
      "metadata": {
        "colab": {
          "base_uri": "https://localhost:8080/",
          "height": 35
        },
        "id": "0csXOnGkaSyg",
        "outputId": "70f7fc60-c00f-4fbf-e917-fa7ac80a03ed"
      },
      "execution_count": 30,
      "outputs": [
        {
          "output_type": "execute_result",
          "data": {
            "application/vnd.google.colaboratory.intrinsic+json": {
              "type": "string"
            },
            "text/plain": [
              "'7878787878'"
            ]
          },
          "metadata": {},
          "execution_count": 30
        }
      ]
    },
    {
      "cell_type": "markdown",
      "source": [
        "#Basic Hash Table Implementation"
      ],
      "metadata": {
        "id": "_FxbJhy_cOtn"
      }
    },
    {
      "cell_type": "markdown",
      "source": [
        "We can now use the hashing function defined above to implement a basic hash table in Python."
      ],
      "metadata": {
        "id": "NciRJnKpcTDm"
      }
    },
    {
      "cell_type": "markdown",
      "source": [
        "QUESTION 3: Complete the hash table implementation below by following the instructions in the comments.\n",
        "\n",
        "Hint: Insert and update can have identical implementations."
      ],
      "metadata": {
        "id": "pEd_bArRcYiu"
      }
    },
    {
      "cell_type": "code",
      "source": [
        "class BasicHashTable:\n",
        "    def __init__(self, max_size=MAX_HASH_TABLE_SIZE):\n",
        "        # 1. Create a list of size `max_size` with all values None\n",
        "        self.data_list = [None]*max_size\n",
        "     \n",
        "    \n",
        "    def insert(self, key, value):\n",
        "        # 1. Find the index for the key using get_index\n",
        "        idx = get_index(self.data_list, key)\n",
        "        \n",
        "        # 2. Store the key-value pair at the right index\n",
        "        self.data_list[idx] = (key,value)\n",
        "    \n",
        "    \n",
        "    def find(self, key):\n",
        "        # 1. Find the index for the key using get_index\n",
        "        idx = get_index(self.data_list,key)\n",
        "        \n",
        "        # 2. Retrieve the data stored at the index\n",
        "        keyval = self.data_list[idx]\n",
        "        \n",
        "        # 3. Return the value if found, else return None\n",
        "        if keyval is None:\n",
        "            raise IndexError('key not found')\n",
        "        else:\n",
        "            key, value = keyval\n",
        "            return value\n",
        "    \n",
        "    \n",
        "    def update(self, key, value):\n",
        "        # 1. Find the index for the key using get_index\n",
        "        idx = get_index(self.data_list,key)\n",
        "        \n",
        "        # 2. Store the new key-value pair at the right index\n",
        "        self.data_list[idx] = (key,value)\n",
        "\n",
        "    \n",
        "    def list_all(self):\n",
        "        # 1. Extract the key from each key-value pair \n",
        "        return [keyval[0] for keyval in self.data_list if keyval is not None]"
      ],
      "metadata": {
        "id": "fHVYYmrRaS4b"
      },
      "execution_count": 32,
      "outputs": []
    },
    {
      "cell_type": "markdown",
      "source": [
        "If the BasicHashTable class was defined correctly, the following cells should output True."
      ],
      "metadata": {
        "id": "N6R_vap7cmYV"
      }
    },
    {
      "cell_type": "code",
      "source": [
        "basic_table = BasicHashTable(max_size=1024)\n",
        "len(basic_table.data_list) == 1024"
      ],
      "metadata": {
        "colab": {
          "base_uri": "https://localhost:8080/"
        },
        "id": "mTpoK3JxaS7l",
        "outputId": "de46c160-62f7-47e1-f2ed-d8566e4e798b"
      },
      "execution_count": 33,
      "outputs": [
        {
          "output_type": "execute_result",
          "data": {
            "text/plain": [
              "True"
            ]
          },
          "metadata": {},
          "execution_count": 33
        }
      ]
    },
    {
      "cell_type": "code",
      "source": [
        "# Insert some values\n",
        "basic_table.insert('Aakash', '9999999999')\n",
        "basic_table.insert('Hemanth', '8888888888')\n",
        "\n",
        "# Find a value\n",
        "basic_table.find('Hemanth') == '8888888888'"
      ],
      "metadata": {
        "colab": {
          "base_uri": "https://localhost:8080/"
        },
        "id": "l4PYJvTJaS_T",
        "outputId": "bc4ced37-1a7f-4220-b197-ed72f7f6e633"
      },
      "execution_count": 35,
      "outputs": [
        {
          "output_type": "execute_result",
          "data": {
            "text/plain": [
              "True"
            ]
          },
          "metadata": {},
          "execution_count": 35
        }
      ]
    },
    {
      "cell_type": "code",
      "source": [
        "# Update a value\n",
        "basic_table.update('Aakash', '7777777777')\n",
        "\n",
        "# Check the updated value\n",
        "basic_table.find('Aakash') == '7777777777'"
      ],
      "metadata": {
        "colab": {
          "base_uri": "https://localhost:8080/"
        },
        "id": "Q0s6vwXKaTCh",
        "outputId": "2726d789-1731-49cf-fd94-a612d26c61ae"
      },
      "execution_count": 36,
      "outputs": [
        {
          "output_type": "execute_result",
          "data": {
            "text/plain": [
              "True"
            ]
          },
          "metadata": {},
          "execution_count": 36
        }
      ]
    },
    {
      "cell_type": "code",
      "source": [
        "# Get the list of keys\n",
        "basic_table.list_all() == ['Aakash', 'Hemanth']"
      ],
      "metadata": {
        "colab": {
          "base_uri": "https://localhost:8080/"
        },
        "id": "mqYKzlSoaTKW",
        "outputId": "f6de2d35-e0f1-4bf5-ee42-179b13446d35"
      },
      "execution_count": 37,
      "outputs": [
        {
          "output_type": "execute_result",
          "data": {
            "text/plain": [
              "True"
            ]
          },
          "metadata": {},
          "execution_count": 37
        }
      ]
    },
    {
      "cell_type": "markdown",
      "source": [
        "#Handling Collisions with Linear Probing"
      ],
      "metadata": {
        "id": "3TlgAAQihXow"
      }
    },
    {
      "cell_type": "markdown",
      "source": [
        "As you might have wondered, multiple keys can have the same hash. For instance, the keys \"listen\" and \"silent\" have the same hash. This is referred to as collision. Data stored against one key may override the data stored against another, if they have the same hash."
      ],
      "metadata": {
        "id": "A_sqPfXAhetw"
      }
    },
    {
      "cell_type": "code",
      "source": [
        "basic_table.insert('listen', 99)"
      ],
      "metadata": {
        "id": "0yV_0Lk5aTN4"
      },
      "execution_count": 38,
      "outputs": []
    },
    {
      "cell_type": "code",
      "source": [
        "basic_table.insert('silent', 200)"
      ],
      "metadata": {
        "id": "N7QCMIKRaTTF"
      },
      "execution_count": 39,
      "outputs": []
    },
    {
      "cell_type": "code",
      "source": [
        "basic_table.find('listen')"
      ],
      "metadata": {
        "id": "8udWhJpwE6IE",
        "colab": {
          "base_uri": "https://localhost:8080/"
        },
        "outputId": "16a3f713-d3b7-44d2-dcf1-ddef1f3b7333"
      },
      "execution_count": 40,
      "outputs": [
        {
          "output_type": "execute_result",
          "data": {
            "text/plain": [
              "200"
            ]
          },
          "metadata": {},
          "execution_count": 40
        }
      ]
    },
    {
      "cell_type": "markdown",
      "source": [
        "As you can see above, the value for the key listen was overwritten by the value for the key silent. Our hash table implementation is incomplete because it does not handle collisions correctly."
      ],
      "metadata": {
        "id": "69Jx-KNuhvhr"
      }
    },
    {
      "cell_type": "markdown",
      "source": [
        " handle collisions we'll use a technique called linear probing. Here's how it works:\n",
        "\n",
        "While inserting a new key-value pair if the target index for a key is occupied by another key, then we try the next index, followed by the next and so on till we the closest empty location.\n",
        "\n",
        "\n",
        "While finding a key-value pair, we apply the same strategy, but instead of searching for an empty location, we look for a location which contains a key-value pair with the matching key.\n",
        "\n",
        "\n",
        "While updating a key-value pair, we apply the same strategy, but instead of searching for an empty location, we look for a location which contains a key-value pair with the matching key, and update its value."
      ],
      "metadata": {
        "id": "g7IjPY1EhypP"
      }
    },
    {
      "cell_type": "markdown",
      "source": [
        "We'll define a function called get_valid_index, which starts searching the data list from the index determined by the hashing function get_index and returns the first index which is either empty or contains a key-value pair matching the given key."
      ],
      "metadata": {
        "id": "oTpfx7PWh3wv"
      }
    },
    {
      "cell_type": "markdown",
      "source": [
        "QUESTION 4: Complete the function get_valid_index below by following the instructions in the comments."
      ],
      "metadata": {
        "id": "cyQ_Rie7h7Tu"
      }
    },
    {
      "cell_type": "code",
      "source": [
        "def get_valid_index(data_list, key):\n",
        "    # Start with the index returned by get_index\n",
        "    idx = get_index(data_list,key)\n",
        "    \n",
        "    while True:\n",
        "        # Get the key-value pair stored at idx\n",
        "        keyval = data_list[idx]\n",
        "        \n",
        "        # If it is None, return the index\n",
        "        if keyval == None:\n",
        "            return idx\n",
        "        \n",
        "        # If the stored key matches the given key, return the index\n",
        "        k, v = keyval\n",
        "        if key == k:\n",
        "            return idx\n",
        "        \n",
        "        # Move to the next index\n",
        "        idx += 1\n",
        "        \n",
        "        # Go back to the start if you have reached the end of the array\n",
        "        if idx == len(data_list):\n",
        "            idx = 0"
      ],
      "metadata": {
        "id": "iZfhVjdGhpk6"
      },
      "execution_count": 41,
      "outputs": []
    },
    {
      "cell_type": "markdown",
      "source": [
        "If get_valid_index was defined correctly, the following cells should output True."
      ],
      "metadata": {
        "id": "HDCpAM3biHic"
      }
    },
    {
      "cell_type": "code",
      "source": [
        "# Create an empty hash table\n",
        "data_list2 = [None] * MAX_HASH_TABLE_SIZE\n",
        "\n",
        "# New key 'listen' should return expected index\n",
        "get_valid_index(data_list2, 'listen') == 655"
      ],
      "metadata": {
        "colab": {
          "base_uri": "https://localhost:8080/"
        },
        "id": "Z-geJOmOhpn4",
        "outputId": "99e626fc-e19f-409c-c05d-eab1dc8bf4db"
      },
      "execution_count": 42,
      "outputs": [
        {
          "output_type": "execute_result",
          "data": {
            "text/plain": [
              "True"
            ]
          },
          "metadata": {},
          "execution_count": 42
        }
      ]
    },
    {
      "cell_type": "code",
      "source": [
        "# Insert a key-value pair for the key 'listen'\n",
        "data_list2[get_index(data_list2, 'listen')] = ('listen', 99)\n",
        "\n",
        "# Colliding key 'silent' should return next index\n",
        "get_valid_index(data_list2, 'silent') == 656\n",
        "True"
      ],
      "metadata": {
        "colab": {
          "base_uri": "https://localhost:8080/"
        },
        "id": "cp556LVbhprL",
        "outputId": "ca206790-5ec5-4e2f-a2c6-f45c1a5eab25"
      },
      "execution_count": 43,
      "outputs": [
        {
          "output_type": "execute_result",
          "data": {
            "text/plain": [
              "True"
            ]
          },
          "metadata": {},
          "execution_count": 43
        }
      ]
    },
    {
      "cell_type": "markdown",
      "source": [
        "#Hash Table with Linear Probing"
      ],
      "metadata": {
        "id": "O4EFwYS8iXe0"
      }
    },
    {
      "cell_type": "markdown",
      "source": [
        "We can now implement a hash table with linear probing.\n",
        "\n",
        "QUESTION 5: Complete the hash table (with linear probing) implementation below by following the instructions in the comments"
      ],
      "metadata": {
        "id": "fbN1AlVEic7O"
      }
    },
    {
      "cell_type": "code",
      "source": [
        "class ProbingHashTable:\n",
        "    def __init__(self, max_size=MAX_HASH_TABLE_SIZE):\n",
        "        # 1. Create a list of size `max_size` with all values None\n",
        "        self.data_list = [None]*max_size\n",
        "     \n",
        "    \n",
        "    def insert(self, key, value):\n",
        "        # 1. Find the index for the key using get_valid_index\n",
        "        idx = get_valid_index(self.data_list, key)\n",
        "        \n",
        "        # 2. Store the key-value pair at the right index\n",
        "        self.data_list[idx] = (key,value)\n",
        "    \n",
        "    \n",
        "    def find(self, key):\n",
        "        # 1. Find the index for the key using get_valid_index\n",
        "        idx = get_valid_index(self.data_list,key)\n",
        "        \n",
        "        # 2. Retrieve the data stored at the index\n",
        "        keyval = self.data_list[idx]\n",
        "        \n",
        "        # 3. Return the value if found, else return None\n",
        "        return None if keyval is None else keyval[1]\n",
        "    \n",
        "    \n",
        "    def update(self, key, value):\n",
        "        # 1. Find the index for the key using get_valid_index\n",
        "        idx = get_valid_index(self.data_list,key)\n",
        "        \n",
        "        # 2. Store the new key-value pair at the right index\n",
        "        self.data_list[idx] = key,value\n",
        "\n",
        "    \n",
        "    def list_all(self):\n",
        "        # 1. Extract the key from each key-value pair \n",
        "        return [keyval[0] for keyval in self.data_list if keyval is not None]"
      ],
      "metadata": {
        "id": "TVKitGxPhpt1"
      },
      "execution_count": 44,
      "outputs": []
    },
    {
      "cell_type": "markdown",
      "source": [
        "If the ProbingHashTable class was defined correctly, the following cells should output True"
      ],
      "metadata": {
        "id": "a6Q7wNNViqqs"
      }
    },
    {
      "cell_type": "code",
      "source": [
        "# Create a new hash table\n",
        "probing_table = ProbingHashTable()\n",
        "\n",
        "# Insert a value\n",
        "probing_table.insert('listen', 99)\n",
        "\n",
        "# Check the value\n",
        "probing_table.find('listen') == 99"
      ],
      "metadata": {
        "colab": {
          "base_uri": "https://localhost:8080/"
        },
        "id": "5oIF8SsDinT2",
        "outputId": "d353366f-a4e4-4c6e-f183-bd6556625db0"
      },
      "execution_count": 45,
      "outputs": [
        {
          "output_type": "execute_result",
          "data": {
            "text/plain": [
              "True"
            ]
          },
          "metadata": {},
          "execution_count": 45
        }
      ]
    },
    {
      "cell_type": "code",
      "source": [
        "# Insert a colliding key\n",
        "probing_table.insert('silent', 200)\n",
        "\n",
        "# Check the new and old keys\n",
        "probing_table.find('listen') == 99 and probing_table.find('silent') == 200"
      ],
      "metadata": {
        "colab": {
          "base_uri": "https://localhost:8080/"
        },
        "id": "oMU7-odLinZG",
        "outputId": "b8bc4691-03a5-4007-86e7-a753634bfbd1"
      },
      "execution_count": 46,
      "outputs": [
        {
          "output_type": "execute_result",
          "data": {
            "text/plain": [
              "True"
            ]
          },
          "metadata": {},
          "execution_count": 46
        }
      ]
    },
    {
      "cell_type": "code",
      "source": [
        "# Update a key\n",
        "probing_table.insert('listen', 101)\n",
        "\n",
        "# Check the value\n",
        "probing_table.find('listen') == 101"
      ],
      "metadata": {
        "colab": {
          "base_uri": "https://localhost:8080/"
        },
        "id": "qlYWEZ1finfW",
        "outputId": "896d826e-5ee4-47ce-fe96-8a3a4b9de59b"
      },
      "execution_count": 47,
      "outputs": [
        {
          "output_type": "execute_result",
          "data": {
            "text/plain": [
              "True"
            ]
          },
          "metadata": {},
          "execution_count": 47
        }
      ]
    },
    {
      "cell_type": "code",
      "source": [
        "probing_table.list_all() == ['listen', 'silent']"
      ],
      "metadata": {
        "colab": {
          "base_uri": "https://localhost:8080/"
        },
        "id": "RABPyqhuinif",
        "outputId": "d2dbf8d7-b2d4-49cb-f2d8-a009418b0b08"
      },
      "execution_count": 48,
      "outputs": [
        {
          "output_type": "execute_result",
          "data": {
            "text/plain": [
              "True"
            ]
          },
          "metadata": {},
          "execution_count": 48
        }
      ]
    }
  ]
}