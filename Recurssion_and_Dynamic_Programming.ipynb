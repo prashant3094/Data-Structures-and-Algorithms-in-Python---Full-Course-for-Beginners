{
  "nbformat": 4,
  "nbformat_minor": 0,
  "metadata": {
    "colab": {
      "name": "Recurssion and Dynamic Programming.ipynb",
      "provenance": [],
      "include_colab_link": true
    },
    "kernelspec": {
      "name": "python3",
      "display_name": "Python 3"
    },
    "language_info": {
      "name": "python"
    }
  },
  "cells": [
    {
      "cell_type": "markdown",
      "metadata": {
        "id": "view-in-github",
        "colab_type": "text"
      },
      "source": [
        "<a href=\"https://colab.research.google.com/github/prashant3094/Data-Structures-and-Algorithms-in-Python---Full-Course-for-Beginners/blob/main/Recurssion_and_Dynamic_Programming.ipynb\" target=\"_parent\"><img src=\"https://colab.research.google.com/assets/colab-badge.svg\" alt=\"Open In Colab\"/></a>"
      ]
    },
    {
      "cell_type": "markdown",
      "source": [
        "#### Longest Common Sequence using Recursion"
      ],
      "metadata": {
        "id": "Iy_hFmDdP3OB"
      }
    },
    {
      "cell_type": "code",
      "execution_count": null,
      "metadata": {
        "id": "iy2ngf4FPvl5"
      },
      "outputs": [],
      "source": [
        "def lcq_recursive(seq1, seq2, idx1 = 0, idx2 = 0):\n",
        "\n",
        "  # Check if either of the sequence reaches the end of the list\n",
        "  if idx1 == len(seq1) or idx2 == len(seq2):\n",
        "    return 0\n",
        "  # Check if current characters are equal  \n",
        "  elif seq1[idx1] == seq2[idx2]:\n",
        "    return 1 + lcq_recursive(seq1, seq2, idx1+1, idx2+1)  \n",
        "  # Skip one element from each sequence  \n",
        "  else:\n",
        "    return max(lcq_recursive(seq1, seq2, idx1 +1, idx2 ), lcq_recursive(seq1, seq2, idx1, idx2 + 1))"
      ]
    },
    {
      "cell_type": "code",
      "source": [
        "result = lcq_recursive('longest','stone')\n",
        "print(result)"
      ],
      "metadata": {
        "colab": {
          "base_uri": "https://localhost:8080/"
        },
        "id": "y0En9BrKP1ET",
        "outputId": "cc7164e0-3b55-410f-ef39-c638a0056240"
      },
      "execution_count": null,
      "outputs": [
        {
          "output_type": "stream",
          "name": "stdout",
          "text": [
            "3\n"
          ]
        }
      ]
    },
    {
      "cell_type": "markdown",
      "source": [
        "#### Longest Common Sequence using memoization"
      ],
      "metadata": {
        "id": "T0QCGgiXQH0V"
      }
    },
    {
      "cell_type": "code",
      "source": [
        "def lcq_memoized(seq1, seq2):\n",
        "\n",
        "  memoized = {}\n",
        "\n",
        "  def recursive(idx1, idx2):\n",
        "    key = idx1 ,idx2\n",
        "\n",
        "    # Check if key is present in a dictionary\n",
        "    if key in memoized:\n",
        "      return key\n",
        "     # Check if both the sequences are equal\n",
        "    if idx1 == len(seq1) or idx2 == len(seq2):\n",
        "      return memoized[key] == 0\n",
        "\n",
        "    # Check if both the sequences are equal\n",
        "    elif seq1[idx1] == seq2[idx2]:\n",
        "      return 1 + lcq_memoized(seq1, seq2 ,idx1+1, idx2 +1)\n",
        "\n",
        "    else:\n",
        "      return max(recursive(idx1 +1 , idx2), recursive(idx1, idx2 + 1))  "
      ],
      "metadata": {
        "id": "m1KgSr-sQDy4"
      },
      "execution_count": null,
      "outputs": []
    },
    {
      "cell_type": "code",
      "source": [
        "result = lcq_recursive('longest','stone')\n",
        "print(result)"
      ],
      "metadata": {
        "id": "p0bNyNs_QSzu",
        "outputId": "3d9bb7fd-1e39-466d-b91a-b420e438d13a",
        "colab": {
          "base_uri": "https://localhost:8080/"
        }
      },
      "execution_count": null,
      "outputs": [
        {
          "output_type": "stream",
          "name": "stdout",
          "text": [
            "3\n"
          ]
        }
      ]
    },
    {
      "cell_type": "markdown",
      "source": [
        "#### Longest Common Subsequence using dynamic programming"
      ],
      "metadata": {
        "id": "IvGUfxXOQZQT"
      }
    },
    {
      "cell_type": "code",
      "source": [
        "def lcq_dp(seq1, seq2):\n",
        "    n1, n2 = len(seq1), len(seq2)\n",
        "    # Creating a table of 0 of size(n1+1)*(n2+1) \n",
        "    table = [[0 for _ in range(n2+1)] for _ in range(n1+1)]\n",
        "    # Iterate over rows\n",
        "    for idx1 in range(n1):\n",
        "       # Iterate over columns\n",
        "        for idx2 in range(n2):\n",
        "          # if both the elements are matching then increment it by 1 otherwise whichever is max \n",
        "            if seq1[idx1] == seq2[idx2]:\n",
        "                table[idx1+1][idx2+1] = 1 + table[idx1][idx2]\n",
        "            else:\n",
        "                table[idx1+1][idx2+1] = max(table[idx1][idx2+1], table[idx1+1][idx2])\n",
        "    # Return the last element            \n",
        "    return table[-1][-1]"
      ],
      "metadata": {
        "id": "oYrP3WETQVI1"
      },
      "execution_count": null,
      "outputs": []
    },
    {
      "cell_type": "code",
      "source": [
        "result = lcq_dp('longest','stone')\n",
        "print(result)"
      ],
      "metadata": {
        "id": "QC4DqM3tQg3s",
        "outputId": "3963c76d-22a5-4eb8-aa56-0daa37b634ea",
        "colab": {
          "base_uri": "https://localhost:8080/"
        }
      },
      "execution_count": null,
      "outputs": [
        {
          "output_type": "stream",
          "name": "stdout",
          "text": [
            "3\n"
          ]
        }
      ]
    }
  ]
}